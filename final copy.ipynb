{
 "cells": [
  {
   "cell_type": "markdown",
   "metadata": {},
   "source": [
    "# The Impact of News Event on Financial Markets"
   ]
  },
  {
   "cell_type": "markdown",
   "metadata": {},
   "source": [
    "## Introduction"
   ]
  },
  {
   "cell_type": "markdown",
   "metadata": {},
   "source": [
    "This project presents an event study analysis examining the impact of three key economic indicators (Consumer Price Index (CPI), Interest Rate, and Unemployment Rate) on the returns of the FTSE 100 index. The analysis is conducted over multiple event window sizes to provide a comprehensive understanding of short-term effects."
   ]
  },
  {
   "cell_type": "markdown",
   "metadata": {},
   "source": [
    "## 1. Setup and Data Preparation"
   ]
  },
  {
   "cell_type": "markdown",
   "metadata": {},
   "source": [
    "### Import required libraries"
   ]
  },
  {
   "cell_type": "code",
   "execution_count": null,
   "metadata": {},
   "outputs": [],
   "source": [
    "import yfinance as yf\n",
    "import pandas as pd\n",
    "import numpy as np\n",
    "import matplotlib.pyplot as plt\n",
    "from scipy import stats\n",
    "import seaborn as sns\n",
    "import os\n",
    "from IPython.display import display, HTML\n",
    "\n",
    "# Set the Seaborn style for all plots\n",
    "sns.set_theme(style=\"whitegrid\")\n",
    "sns.set_context(\"notebook\", font_scale=1.2)\n",
    "\n",
    "# Custom colour palette\n",
    "indicator_colour_palette = sns.color_palette(\"deep\", 3)\n",
    "\n",
    "# Ensure the directory exists before saving the data\n",
    "output_directory = \"data\"\n",
    "if not os.path.exists(output_directory):\n",
    "    os.makedirs(output_directory)"
   ]
  },
  {
   "cell_type": "markdown",
   "metadata": {},
   "source": [
    "### 1.1. Fetch FTSE 100 data"
   ]
  },
  {
   "cell_type": "markdown",
   "metadata": {},
   "source": [
    "Retrieved 10 years of FTSE 100 data from Yahoo! Finance using the yfinance library and saved to a CSV file for later use.\n",
    "\n",
    "Yahoo Finance FTSE 100 index: [https://uk.finance.yahoo.com/quote/%5EFTSE/](https://uk.finance.yahoo.com/quote/%5EFTSE/)\n",
    "\n",
    "yfinance API: [https://pypi.org/project/yfinance/](https://pypi.org/project/yfinance/)"
   ]
  },
  {
   "cell_type": "code",
   "execution_count": null,
   "metadata": {},
   "outputs": [],
   "source": [
    "# Fetch FTSE 100 data for the last 10 years using the yfinance library\n",
    "ftse100_ticker = yf.Ticker(\"^FTSE\")\n",
    "ftse100_historical_data = ftse100_ticker.history(period=\"10y\")\n",
    "\n",
    "# Display the first few rows of the fetched data\n",
    "print(ftse100_historical_data.head())\n",
    "\n",
    "# Save the FTSE 100 data to a CSV file\n",
    "ftse100_historical_data.to_csv(os.path.join(output_directory, \"ftse100_historical_data.csv\"))"
   ]
  },
  {
   "cell_type": "markdown",
   "metadata": {},
   "source": [
    "### 1.2. Load and process economic indicator dates"
   ]
  },
  {
   "cell_type": "markdown",
   "metadata": {},
   "source": [
    "Publication dates of the economic indicators are loaded from the CSV file and processed for the analysis."
   ]
  },
  {
   "cell_type": "code",
   "execution_count": null,
   "metadata": {},
   "outputs": [],
   "source": [
    "# Load indicator release dates from a CSV file\n",
    "indicator_release_dates = pd.read_csv('data/dates.csv')\n",
    "\n",
    "# Convert the 'Release Date' column to a datetime object\n",
    "indicator_release_dates['Release Date'] = pd.to_datetime(indicator_release_dates['Release Date'], utc=True)\n",
    "indicator_release_dates['Release Date'] = indicator_release_dates['Release Date'].dt.date\n",
    "\n",
    "# Split the dataset into separate DataFrames based on 'Indicator' values\n",
    "interest_rate_release_dates = indicator_release_dates[indicator_release_dates['Indicator'] == 'Interest Rate']\n",
    "cpi_release_dates = indicator_release_dates[indicator_release_dates['Indicator'] == 'CPI']\n",
    "unemployment_rate_release_dates = indicator_release_dates[indicator_release_dates['Indicator'] == 'Unemployment Rate']\n",
    "\n",
    "# Save each indicator's release dates to separate CSV files\n",
    "interest_rate_release_dates.to_csv('data/interest_rate_release_dates.csv', index=False)\n",
    "cpi_release_dates.to_csv('data/cpi_release_dates.csv', index=False)\n",
    "unemployment_rate_release_dates.to_csv('data/unemployment_rate_release_dates.csv', index=False)"
   ]
  },
  {
   "cell_type": "markdown",
   "metadata": {},
   "source": [
    "### 1.3. Load and process FTSE 100 data"
   ]
  },
  {
   "cell_type": "markdown",
   "metadata": {},
   "source": [
    "Previously saved raw data is loaded and processed for the analysis."
   ]
  },
  {
   "cell_type": "code",
   "execution_count": null,
   "metadata": {},
   "outputs": [],
   "source": [
    "# Load the saved FTSE 100 data from the CSV file\n",
    "ftse100_data_loaded = pd.read_csv(\"data/ftse100_historical_data.csv\")\n",
    "\n",
    "# Convert the 'Date' column to datetime format\n",
    "ftse100_data_loaded['Date'] = pd.to_datetime(ftse100_data_loaded['Date'], utc=True)\n",
    "\n",
    "# Extract the 'Date' and 'Close' columns\n",
    "ftse100_closing_prices = ftse100_data_loaded[['Date', 'Close']].copy()\n",
    "\n",
    "# Format the 'Date' column to remove the timestamp\n",
    "ftse100_closing_prices['Date'] = ftse100_closing_prices['Date'].dt.date\n",
    "\n",
    "# Save the Closing prices data to a CSV file\n",
    "ftse100_closing_prices.to_csv('data/ftse100_closing_prices.csv', index=False)"
   ]
  },
  {
   "cell_type": "markdown",
   "metadata": {},
   "source": [
    "### 1.4. Load and prepare the data"
   ]
  },
  {
   "cell_type": "code",
   "execution_count": null,
   "metadata": {},
   "outputs": [],
   "source": [
    "# Load datasets\n",
    "ftse100_data = pd.read_csv('data/ftse100_closing_prices.csv')\n",
    "cpi_release_dates = pd.read_csv('data/cpi_release_dates.csv')\n",
    "interest_rate_release_dates = pd.read_csv('data/interest_rate_release_dates.csv')\n",
    "unemployment_rate_release_dates = pd.read_csv('data/unemployment_rate_release_dates.csv')"
   ]
  },
  {
   "cell_type": "code",
   "execution_count": null,
   "metadata": {},
   "outputs": [],
   "source": [
    "# Convert the 'Date' column to datetime format for further analysis\n",
    "ftse100_data['Date'] = pd.to_datetime(ftse100_data['Date'])\n",
    "cpi_release_dates['Release Date'] = pd.to_datetime(cpi_release_dates['Release Date'])\n",
    "interest_rate_release_dates['Release Date'] = pd.to_datetime(interest_rate_release_dates['Release Date'])\n",
    "unemployment_rate_release_dates['Release Date'] = pd.to_datetime(unemployment_rate_release_dates['Release Date'])"
   ]
  },
  {
   "cell_type": "code",
   "execution_count": null,
   "metadata": {},
   "outputs": [],
   "source": [
    "# Sort the FTSE 100 data by date\n",
    "ftse100_data_sorted = ftse100_data.sort_values(by='Date')\n",
    "\n",
    "# Calculate daily returns as percentage change in 'Close' prices\n",
    "ftse100_data_sorted['Return'] = ftse100_data_sorted['Close'].pct_change()\n",
    "\n",
    "# Remove the first NaN value in 'Return' column\n",
    "ftse100_data_cleaned = ftse100_data_sorted.dropna(subset=['Return'])\n",
    "\n",
    "ftse100_data_cleaned.head()"
   ]
  },
  {
   "cell_type": "markdown",
   "metadata": {},
   "source": [
    "### Check for missing values"
   ]
  },
  {
   "cell_type": "code",
   "execution_count": null,
   "metadata": {},
   "outputs": [],
   "source": [
    "print(\"Checking for missing values in FTSE 100 data:\")\n",
    "print(ftse100_data_cleaned.isnull().sum())\n",
    "print(\"\\n\")\n",
    "print(\"Checking for missing values in CPI release dates:\")\n",
    "print(cpi_release_dates.isnull().sum())\n",
    "print(\"\\n\")\n",
    "print(\"Checking for missing values in Interest Rate release dates:\")\n",
    "print(interest_rate_release_dates.isnull().sum())\n",
    "print(\"\\n\")\n",
    "print(\"Checking for missing values in Unemployment Rate release dates:\")\n",
    "print(unemployment_rate_release_dates.isnull().sum())"
   ]
  },
  {
   "cell_type": "markdown",
   "metadata": {},
   "source": [
    "## 2. Define Functions"
   ]
  },
  {
   "cell_type": "markdown",
   "metadata": {},
   "source": [
    "Required functions are defined to conduct the event study analysis."
   ]
  },
  {
   "cell_type": "markdown",
   "metadata": {},
   "source": [
    "### Function to get event windows"
   ]
  },
  {
   "cell_type": "markdown",
   "metadata": {},
   "source": [
    "This function creates event windows around specified event dates. It selects market data for a given number of days before and after each event date."
   ]
  },
  {
   "cell_type": "code",
   "execution_count": null,
   "metadata": {},
   "outputs": [],
   "source": [
    "def get_event_windows(market_data, event_dates, window_days):\n",
    "    \"\"\"\n",
    "    Get the event windows around specified event dates.\n",
    "\n",
    "    Parameters:\n",
    "    market_data (pd.DataFrame): DataFrame containing the market data with a 'Date' column.\n",
    "    event_dates (pd.DataFrame): DataFrame containing the event dates with a 'Release Date' column.\n",
    "    window_days (int): Number of days before and after the event date to include in the window.\n",
    "\n",
    "    Returns:\n",
    "    event_windows (pd.DataFrame): A DataFrame containing the market data for the specified event windows,\n",
    "                  with an additional column 'Days_From_Event' indicating the number of days\n",
    "                  from the event date.\n",
    "    \"\"\"\n",
    "\n",
    "    # Make a copy of the market data to avoid modifying the original DataFrame\n",
    "    market_data = market_data.copy()\n",
    "\n",
    "    # Convert 'Date' columns to datetime format\n",
    "    market_data['Date'] = pd.to_datetime(market_data['Date'])\n",
    "    event_dates['Release Date'] = pd.to_datetime(event_dates['Release Date'])\n",
    "\n",
    "    # Create event windows for each event date\n",
    "    event_windows = pd.concat([\n",
    "        market_data[(market_data['Date'] >= (event_date - pd.Timedelta(days=window_days))) & \n",
    "                    (market_data['Date'] <= (event_date + pd.Timedelta(days=window_days)))]\n",
    "                   .assign(Days_From_Event=(market_data['Date'] - event_date).dt.days)\n",
    "        for event_date in event_dates['Release Date']\n",
    "    ], ignore_index=True)\n",
    "\n",
    "    return event_windows"
   ]
  },
  {
   "cell_type": "markdown",
   "metadata": {},
   "source": [
    "### Function to prepare event data"
   ]
  },
  {
   "cell_type": "markdown",
   "metadata": {},
   "source": [
    "This function calculates abnormal returns for each event window, preparing the data for further analysis."
   ]
  },
  {
   "cell_type": "code",
   "execution_count": null,
   "metadata": {},
   "outputs": [],
   "source": [
    "def prepare_event_data(ftse_data, event_dates, window_days):\n",
    "    \"\"\"\n",
    "    Prepare event data by calculating abnormal returns within the event window.\n",
    "\n",
    "    Parameters:\n",
    "    ftse_data (pd.DataFrame): DataFrame containing FTSE data with 'Date' and 'Return' columns.\n",
    "    event_dates (pd.DataFrame): DataFrame containing event dates with a 'Release Date' column.\n",
    "    window_days (int): Number of days before and after the event to include in the window.\n",
    "\n",
    "    Returns:\n",
    "    event_windows (pd.DataFrame): DataFrame containing event windows with calculated abnormal returns.\n",
    "    \"\"\"\n",
    "    # Get event windows for specified dates\n",
    "    event_windows = get_event_windows(ftse_data, event_dates, window_days)\n",
    "    \n",
    "    # Replace infinite values with NaN to avoid calculation errors\n",
    "    event_windows.replace([np.inf, -np.inf], np.nan, inplace=True)\n",
    "    \n",
    "    # Calculate baseline mean return excluding event window dates\n",
    "    baseline_mean_return = ftse_data[~ftse_data['Date'].isin(event_windows['Date'])]['Return'].mean()\n",
    "    \n",
    "    # Calculate abnormal returns\n",
    "    event_windows['Abnormal Return'] = event_windows['Return'] - baseline_mean_return\n",
    "    \n",
    "    return event_windows"
   ]
  },
  {
   "cell_type": "markdown",
   "metadata": {},
   "source": [
    "### Function to calculate Average Abnormal Returns (AAR)"
   ]
  },
  {
   "cell_type": "markdown",
   "metadata": {},
   "source": [
    "This function calculates the Average Abnormal Return, the average abnormal return for each day relative to the event, and its associated statistical measures, providing a quantitative assessment of the event's impact."
   ]
  },
  {
   "cell_type": "code",
   "execution_count": null,
   "metadata": {},
   "outputs": [],
   "source": [
    "def calculate_aar(event_windows):\n",
    "    \"\"\"\n",
    "    Calculate Average Abnormal Returns (AAR) and related statistics.\n",
    "\n",
    "    Parameters:\n",
    "    event_windows (pd.DataFrame): DataFrame containing event windows with 'Abnormal Return' column.\n",
    "\n",
    "    Returns:\n",
    "    tuple: AAR, AAR t-statistic, AAR p-value, and 95% confidence interval.\n",
    "    \"\"\"\n",
    "    # Calculate AAR for each day in the event window\n",
    "    aar = event_windows.groupby('Days_From_Event')['Abnormal Return'].mean()\n",
    "    \n",
    "    # Calculate standard error of AAR\n",
    "    aar_std_error = event_windows.groupby('Days_From_Event')['Abnormal Return'].sem()\n",
    "    \n",
    "    # Calculate t-statistic for AAR\n",
    "    aar_t_statistic = aar.mean() / aar_std_error.mean()\n",
    "    \n",
    "    # Calculate p-value for AAR\n",
    "    aar_p_value = 2 * (1 - stats.t.cdf(abs(aar_t_statistic), df=len(aar)-1))\n",
    "    \n",
    "    # Calculate 95% confidence interval\n",
    "    ci_lower, ci_upper = stats.t.interval(confidence=0.95, df=len(aar)-1, loc=aar.mean(), scale=aar_std_error.mean())\n",
    "    \n",
    "    return aar.mean(), aar_t_statistic, aar_p_value, (ci_lower, ci_upper)"
   ]
  },
  {
   "cell_type": "markdown",
   "metadata": {},
   "source": [
    "### Function to calculate Cumulative Abnormal Returns (CAR)"
   ]
  },
  {
   "cell_type": "markdown",
   "metadata": {},
   "source": [
    "This function calculates the Cumulative Abnormal Return and its associated statistical measures, providing a quantitative assessment of the event's cumulative impact."
   ]
  },
  {
   "cell_type": "code",
   "execution_count": null,
   "metadata": {},
   "outputs": [],
   "source": [
    "def calculate_car(event_windows):\n",
    "    \"\"\"\n",
    "    Calculate Cumulative Abnormal Returns (CAR) and related statistics.\n",
    "\n",
    "    Parameters:\n",
    "    event_windows (pd.DataFrame): DataFrame containing event windows with 'Abnormal Return' column.\n",
    "\n",
    "    Returns:\n",
    "    tuple: CAR, CAR t-statistic, CAR p-value, and 95% confidence interval.\n",
    "    \"\"\"\n",
    "    # Calculate CAR\n",
    "    car = event_windows['Abnormal Return'].sum()\n",
    "    \n",
    "    # Calculate standard error of CAR\n",
    "    car_std_error = event_windows['Abnormal Return'].std() * np.sqrt(len(event_windows))\n",
    "    \n",
    "    # Calculate t-statistic for CAR, handling potential division by zero\n",
    "    car_t_statistic = car / car_std_error if car_std_error != 0 else np.nan\n",
    "    \n",
    "    # Calculate p-value for CAR, handling potential NaN values\n",
    "    car_p_value = 2 * (1 - stats.t.cdf(abs(car_t_statistic), df=len(event_windows)-1)) if not np.isnan(car_t_statistic) else np.nan\n",
    "    \n",
    "    # Calculate 95% confidence interval\n",
    "    ci_lower, ci_upper = stats.t.interval(confidence=0.95, df=len(event_windows)-1, loc=car, scale=car_std_error)\n",
    "    \n",
    "    return car, car_t_statistic, car_p_value, (ci_lower, ci_upper)"
   ]
  },
  {
   "cell_type": "markdown",
   "metadata": {},
   "source": [
    "### Function to plot AAR"
   ]
  },
  {
   "cell_type": "markdown",
   "metadata": {},
   "source": [
    "This function creates a line plot of average abnormal returns around event dates, providing a visual representation of how the market typically reacts to a specific type of economic indicator release."
   ]
  },
  {
   "cell_type": "code",
   "execution_count": null,
   "metadata": {},
   "outputs": [],
   "source": [
    "def plot_average_abnormal_returns(event_window_data, event_name, marker='o', line_style='-', line_colour='blue'):\n",
    "    \"\"\"\n",
    "    Plot average abnormal returns around specified event dates.\n",
    "\n",
    "    Parameters:\n",
    "    event_window_data (pd.DataFrame): DataFrame containing event window data with 'Days_From_Event' and 'Abnormal Return' columns.\n",
    "    event_name (str): Name of the event to be used in the plot title.\n",
    "    marker (str): Marker style for the plot. Default is 'o'.\n",
    "    line_style (str): Line style for the plot. Default is '-'.\n",
    "    line_colour (str): Colour of the line. Default is 'blue'.\n",
    "\n",
    "    Returns:\n",
    "    None: The function directly displays the plot.\n",
    "    \"\"\"\n",
    "    avg_abnormal_returns = event_window_data.groupby('Days_From_Event')['Abnormal Return'].mean().reset_index()\n",
    "    \n",
    "    plt.figure(figsize=(12, 6))\n",
    "    sns.lineplot(data=avg_abnormal_returns, x='Days_From_Event', y='Abnormal Return', \n",
    "                 marker=marker, linestyle=line_style, color=line_colour)\n",
    "    plt.axhline(0, color='gray', linestyle='--')\n",
    "    plt.title(f'Average Abnormal Returns Around {event_name} Release Dates', fontsize=16)\n",
    "    plt.xlabel('Days From Event', fontsize=14)\n",
    "    plt.ylabel('Abnormal Return', fontsize=14)\n",
    "    plt.tight_layout()\n",
    "    plt.show()"
   ]
  },
  {
   "cell_type": "markdown",
   "metadata": {},
   "source": [
    "### Function to plot CAR"
   ]
  },
  {
   "cell_type": "markdown",
   "metadata": {},
   "source": [
    "This function creates a line plot of cumulative abnormal returns over the event window, showing the accumulated impact of the event over time."
   ]
  },
  {
   "cell_type": "code",
   "execution_count": null,
   "metadata": {},
   "outputs": [],
   "source": [
    "def plot_cumulative_abnormal_returns(event_window_data, event_name, marker='o', line_style='-', line_colour='red'):\n",
    "    \"\"\"\n",
    "    Plot cumulative abnormal returns around specified event dates.\n",
    "\n",
    "    Parameters:\n",
    "    event_window_data (pd.DataFrame): DataFrame containing event window data with 'Days_From_Event' and 'Abnormal Return' columns.\n",
    "    event_name (str): Name of the event to be used in the plot title.\n",
    "    marker (str): Marker style for the plot. Default is 'o'.\n",
    "    line_style (str): Line style for the plot. Default is '-'.\n",
    "    line_colour (str): Colour of the line. Default is 'red'.\n",
    "\n",
    "    Returns:\n",
    "    None: The function directly displays the plot.\n",
    "    \"\"\"\n",
    "    avg_abnormal_returns = event_window_data.groupby('Days_From_Event')['Abnormal Return'].mean()\n",
    "    cumulative_abnormal_returns = avg_abnormal_returns.cumsum().reset_index()\n",
    "    \n",
    "    plt.figure(figsize=(12, 6))\n",
    "    sns.lineplot(data=cumulative_abnormal_returns, x='Days_From_Event', y='Abnormal Return', \n",
    "                 marker=marker, linestyle=line_style, color=line_colour)\n",
    "    plt.axhline(0, color='gray', linestyle='--')\n",
    "    plt.title(f'Cumulative Abnormal Returns Around {event_name} Release Dates', fontsize=16)\n",
    "    plt.xlabel('Days From Event', fontsize=14)\n",
    "    plt.ylabel('Cumulative Abnormal Return', fontsize=14)\n",
    "    plt.tight_layout()\n",
    "    plt.show()"
   ]
  },
  {
   "cell_type": "markdown",
   "metadata": {},
   "source": [
    "### Function to conduct event study"
   ]
  },
  {
   "cell_type": "markdown",
   "metadata": {},
   "source": [
    "This core function conducts the event study analysis, preparing data, calculating statistics, and generating visualisations."
   ]
  },
  {
   "cell_type": "code",
   "execution_count": null,
   "metadata": {},
   "outputs": [],
   "source": [
    "def event_study(ftse_data, event_dates, event_name, window_days):\n",
    "    \"\"\"\n",
    "    Conduct an event study for a given economic indicator.\n",
    "\n",
    "    This function prepares the event data, calculates AAR and CAR statistics,\n",
    "    and generates plots for visualisation.\n",
    "\n",
    "    Parameters:\n",
    "    ftse_data (pd.DataFrame): DataFrame containing FTSE data with 'Date' and 'Return' columns.\n",
    "    event_dates (pd.DataFrame): DataFrame containing event dates with a 'Release Date' column.\n",
    "    event_name (str): Name of the event/indicator being studied.\n",
    "    window_days (int): Number of days before and after the event to include in the window.\n",
    "\n",
    "    Returns:\n",
    "    tuple: AAR, AAR t-statistic, AAR p-value, AAR confidence interval,\n",
    "           CAR, CAR t-statistic, CAR p-value, CAR confidence interval,\n",
    "           and event windows DataFrame.\n",
    "    \"\"\"\n",
    "    # Prepare event data\n",
    "    event_windows = prepare_event_data(ftse_data, event_dates, window_days)\n",
    "    \n",
    "    # Calculate AAR statistics\n",
    "    aar, aar_t_statistic, aar_p_value, aar_ci = calculate_aar(event_windows)\n",
    "    \n",
    "    # Calculate CAR statistics\n",
    "    car, car_t_statistic, car_p_value, car_ci = calculate_car(event_windows)\n",
    "    \n",
    "    # Generate plots for visualisation\n",
    "    plot_average_abnormal_returns(event_windows, event_name)\n",
    "    plot_cumulative_abnormal_returns(event_windows, event_name)\n",
    "\n",
    "    return aar, aar_t_statistic, aar_p_value, aar_ci, car, car_t_statistic, car_p_value, car_ci, event_windows"
   ]
  },
  {
   "cell_type": "markdown",
   "metadata": {},
   "source": [
    "### Function to plot AAR for multiple windows"
   ]
  },
  {
   "cell_type": "markdown",
   "metadata": {},
   "source": [
    "This function creates a multi-panel plot showing Average Abnormal Returns (AAR) for different event window sizes and economic indicators. The AAR for different economic indicators are plotted against the days from the event to compare the impact of different indicators across various time frames. The resulting plot helps in identifying patterns in market reactions across different timeframes and economic indicators."
   ]
  },
  {
   "cell_type": "code",
   "execution_count": null,
   "metadata": {},
   "outputs": [],
   "source": [
    "def plot_aar_multiple_windows(aar_data_dict):\n",
    "    \"\"\"\n",
    "    Plot Average Abnormal Return (AAR) for multiple event window sizes.\n",
    "\n",
    "    Parameters:\n",
    "    aar_data_dict (dict): A nested dictionary structure where the outer key is the\n",
    "                          window size, and the inner key is the indicator name.\n",
    "                          The values are DataFrames containing 'Days_From_Event' and 'Abnormal Return' columns.\n",
    "\n",
    "    Returns:\n",
    "    None: The function displays the plot directly.\n",
    "    \"\"\"\n",
    "    plt.figure(figsize=(15, 10))\n",
    "    \n",
    "    for window_size, indicators in aar_data_dict.items():\n",
    "        plt.subplot(len(event_window_sizes), 1, event_window_sizes.index(window_size) + 1)\n",
    "        \n",
    "        for i, (event_name, df) in enumerate(indicators.items()):\n",
    "            # Calculate AAR for each day in the event window\n",
    "            aar = df.groupby('Days_From_Event')['Abnormal Return'].mean().reset_index()\n",
    "            \n",
    "            sns.lineplot(data=aar, x='Days_From_Event', y='Abnormal Return',\n",
    "                         marker='o', label=event_name, color=indicator_colour_palette[i])\n",
    "        \n",
    "        plt.title(f'Average Abnormal Return (AAR) - Window Size: {window_size} days')\n",
    "        plt.xlabel('Days From Event')\n",
    "        plt.ylabel('AAR')\n",
    "        plt.axhline(0, color='gray', linestyle='--')\n",
    "        plt.legend(title='Indicator', title_fontsize='10', fontsize='8')\n",
    "    \n",
    "    plt.tight_layout()\n",
    "    plt.show()"
   ]
  },
  {
   "cell_type": "markdown",
   "metadata": {},
   "source": [
    "### Function to plot CAR for multiple windows"
   ]
  },
  {
   "cell_type": "markdown",
   "metadata": {},
   "source": [
    "This function creates a multi-panel plot showing CAR for different event window sizes, facilitating comparison of cumulative effects across time frames."
   ]
  },
  {
   "cell_type": "code",
   "execution_count": null,
   "metadata": {},
   "outputs": [],
   "source": [
    "def plot_car_multiple_windows(car_data_dict):\n",
    "    \"\"\"\n",
    "    Plot Cumulative Abnormal Return (CAR) for multiple event window sizes.\n",
    "\n",
    "    Parameters:\n",
    "    car_data_dict (dict): A nested dictionary structure where the outer key is the\n",
    "                          window size, and the inner key is the indicator name.\n",
    "                          The values are DataFrames containing 'Days_From_Event' and 'Abnormal Return'.\n",
    "\n",
    "    Returns:\n",
    "    None: The function displays the plot directly.\n",
    "    \"\"\"\n",
    "    plt.figure(figsize=(15, 10))\n",
    "    \n",
    "    for window_size, indicators in car_data_dict.items():\n",
    "        plt.subplot(len(event_window_sizes), 1, event_window_sizes.index(window_size) + 1)\n",
    "        \n",
    "        for i, (event_name, df) in enumerate(indicators.items()):\n",
    "            car = df.groupby('Days_From_Event')['Abnormal Return'].mean().cumsum().reset_index()\n",
    "            sns.lineplot(data=car, x='Days_From_Event', y='Abnormal Return',\n",
    "                         marker='o', label=event_name, color=indicator_colour_palette[i])\n",
    "        \n",
    "        plt.title(f'Cumulative Abnormal Return (CAR) - Window Size: {window_size} days')\n",
    "        plt.xlabel('Days From Event')\n",
    "        plt.ylabel('CAR')\n",
    "        plt.axhline(0, color='gray', linestyle='--')\n",
    "        plt.legend(title='Indicator', title_fontsize='10', fontsize='8')\n",
    "    \n",
    "    plt.tight_layout()\n",
    "    plt.show()"
   ]
  },
  {
   "cell_type": "markdown",
   "metadata": {},
   "source": [
    "### Function to create summary table"
   ]
  },
  {
   "cell_type": "markdown",
   "metadata": {},
   "source": [
    "This function creates a summary table compiling the results from the event study across different window sizes and indicators for easy interpretation."
   ]
  },
  {
   "cell_type": "code",
   "execution_count": null,
   "metadata": {},
   "outputs": [],
   "source": [
    "def create_summary_table(results):\n",
    "    \"\"\"\n",
    "    Create a summary table of event study results.\n",
    "\n",
    "    Parameters:\n",
    "    results (dict): A dictionary containing event study results.\n",
    "\n",
    "    Returns:\n",
    "    pd.DataFrame: A summary table of results.\n",
    "    \"\"\"\n",
    "    summary = []\n",
    "    for window_size, indicators in results.items():\n",
    "        for indicator, data in indicators.items():\n",
    "            summary.append({\n",
    "                'Window Size': window_size,\n",
    "                'Indicator': indicator,\n",
    "                'AAR T-Statistic': data['aar_t_statistic'],\n",
    "                'AAR P-Value': data['aar_p_value'],\n",
    "                'CAR': data['car'],\n",
    "                'CAR T-Statistic': data['car_t_statistic'],\n",
    "                'CAR P-Value': data['car_p_value']\n",
    "            })\n",
    "    return pd.DataFrame(summary)"
   ]
  },
  {
   "cell_type": "markdown",
   "metadata": {},
   "source": [
    "### Function to style a Data Frame"
   ]
  },
  {
   "cell_type": "markdown",
   "metadata": {},
   "source": [
    "This function enhances the appearance of the summary table, improving readability and highlighting key information."
   ]
  },
  {
   "cell_type": "code",
   "execution_count": null,
   "metadata": {},
   "outputs": [],
   "source": [
    "def style_dataframe(df):\n",
    "    \"\"\"\n",
    "    Apply styling to a DataFrame for better visualisation.\n",
    "\n",
    "    Parameters:\n",
    "    df (pd.DataFrame): DataFrame to be styled.\n",
    "\n",
    "    Returns:\n",
    "    pd.io.formats.style.Styler: A Styler object with the applied styles.\n",
    "    \"\"\"\n",
    "    return df.style.format({\n",
    "        'AAR T-Statistic': '{:.4f}',\n",
    "        'AAR P-Value': '{:.4f}',\n",
    "        'CAR': '{:.4f}',\n",
    "        'CAR T-Statistic': '{:.4f}',\n",
    "        'CAR P-Value': '{:.4f}'\n",
    "    }).set_table_styles([\n",
    "        {'selector': 'th', 'props': [('font-weight', 'bold')]},\n",
    "        {'selector': 'td', 'props': [('text-align', 'right')]}\n",
    "    ]).set_caption('Summary of Event Study Results')"
   ]
  },
  {
   "cell_type": "markdown",
   "metadata": {},
   "source": [
    "### Functions to interpret the results"
   ]
  },
  {
   "cell_type": "markdown",
   "metadata": {},
   "source": [
    "This function provides a textual interpretation of the event study results, explaining the significance and implications of the findings."
   ]
  },
  {
   "cell_type": "code",
   "execution_count": null,
   "metadata": {},
   "outputs": [],
   "source": [
    "def interpret_results(aar, aar_t_statistic, aar_p_value, aar_ci, \n",
    "                      car, car_t_statistic, car_p_value, car_ci, \n",
    "                      indicator_name, window_size):\n",
    "    \"\"\"\n",
    "    Interpret the statistical results of the event study for a given economic indicator.\n",
    "\n",
    "    Parameters:\n",
    "    aar (float): The Average Abnormal Return.\n",
    "    aar_t_statistic (float): The t-statistic for Average Abnormal Returns.\n",
    "    aar_p_value (float): The p-value associated with the AAR t-statistic.\n",
    "    aar_ci (tuple): 95% confidence interval for AAR.\n",
    "    car (float): The Cumulative Abnormal Return.\n",
    "    car_t_statistic (float): The t-statistic for Cumulative Abnormal Returns.\n",
    "    car_p_value (float): The p-value associated with the CAR t-statistic.\n",
    "    car_ci (tuple): 95% confidence interval for CAR.\n",
    "    indicator_name (str): The name of the economic indicator.\n",
    "    window_size (int): The size of the event window in days.\n",
    "\n",
    "    Returns:\n",
    "    str: A string containing the interpretation of the results.\n",
    "    \"\"\"\n",
    "    interpretation = f\"For {indicator_name} releases over a {window_size}-day window:\\n\\n\"\n",
    "    \n",
    "    # Interpret AAR\n",
    "    aar_strength = \"strong\" if abs(aar_t_statistic) > 2.576 else \"moderate\" if abs(aar_t_statistic) > 1.96 else \"weak\"\n",
    "    aar_direction = \"positive\" if aar > 0 else \"negative\"\n",
    "    aar_significance = \"highly significant\" if aar_p_value < 0.01 else \"significant\" if aar_p_value < 0.05 else \"marginally significant\" if aar_p_value < 0.1 else \"not statistically significant\"\n",
    "    \n",
    "    interpretation += f\"Average Abnormal Returns (AAR):\\n\"\n",
    "    interpretation += f\"The results show a {aar_strength} {aar_direction} effect on FTSE 100 returns (AAR: {aar:.4f}).\\n\"\n",
    "    interpretation += f\"This effect is {aar_significance} (t-statistic: {aar_t_statistic:.4f}, p-value: {aar_p_value:.4f}).\\n\"\n",
    "    interpretation += f\"The 95% confidence interval for AAR is [{aar_ci[0]:.4f}, {aar_ci[1]:.4f}].\\n\\n\"\n",
    "    \n",
    "    # Interpret CAR\n",
    "    car_strength = \"strong\" if abs(car_t_statistic) > 2.576 else \"moderate\" if abs(car_t_statistic) > 1.96 else \"weak\"\n",
    "    car_direction = \"positive\" if car > 0 else \"negative\"\n",
    "    car_significance = \"highly significant\" if car_p_value < 0.01 else \"significant\" if car_p_value < 0.05 else \"marginally significant\" if car_p_value < 0.1 else \"not statistically significant\"\n",
    "    \n",
    "    interpretation += f\"Cumulative Abnormal Returns (CAR):\\n\"\n",
    "    interpretation += f\"The cumulative effect is {car_strength} and {car_direction} (CAR: {car:.4f}).\\n\"\n",
    "    interpretation += f\"This cumulative effect is {car_significance} (t-statistic: {car_t_statistic:.4f}, p-value: {car_p_value:.4f}).\\n\"\n",
    "    interpretation += f\"The 95% confidence interval for CAR is [{car_ci[0]:.4f}, {car_ci[1]:.4f}].\\n\\n\"\n",
    "    \n",
    "    if aar_significance != \"not statistically significant\" or car_significance != \"not statistically significant\":\n",
    "        interpretation += f\"We can conclude that {indicator_name} releases likely have an impact on the market over this time frame, \"\n",
    "        interpretation += \"with effects visible in both daily returns and cumulative returns. \"\n",
    "        interpretation += \"The confidence intervals provide a range of plausible values for these effects.\"\n",
    "    else:\n",
    "        interpretation += f\"We cannot conclude that {indicator_name} releases have a reliable impact on the market over this time frame, \"\n",
    "        interpretation += \"as neither daily nor cumulative returns show significant effects. \"\n",
    "        interpretation += \"However, the confidence intervals should be considered when interpreting these results.\"\n",
    "    \n",
    "    return interpretation"
   ]
  },
  {
   "cell_type": "markdown",
   "metadata": {},
   "source": [
    "### Function to create a Data Frame for the interpretations"
   ]
  },
  {
   "cell_type": "markdown",
   "metadata": {},
   "source": [
    "This function organises the textual interpretations of results into a structured DataFrame."
   ]
  },
  {
   "cell_type": "code",
   "execution_count": null,
   "metadata": {},
   "outputs": [],
   "source": [
    "def create_interpretation_dataframe(interpretations):\n",
    "    \"\"\"\n",
    "    Create a DataFrame from the list of interpretations.\n",
    "\n",
    "    Parameters:\n",
    "    interpretations (list): List of tuples containing (window_size, indicator_name, interpretation)\n",
    "\n",
    "    Returns:\n",
    "    pd.DataFrame: A DataFrame containing the interpretations\n",
    "    \"\"\"\n",
    "    df = pd.DataFrame(interpretations, columns=['Window Size', 'Indicator', 'Interpretation'])\n",
    "    return df.set_index(['Window Size', 'Indicator'])"
   ]
  },
  {
   "cell_type": "markdown",
   "metadata": {},
   "source": [
    "### Function to style interpretations Data Frame"
   ]
  },
  {
   "cell_type": "markdown",
   "metadata": {},
   "source": [
    "This function enhances the appearance of the interpretation DataFrame, improving readability and presentation of the textual results."
   ]
  },
  {
   "cell_type": "code",
   "execution_count": null,
   "metadata": {},
   "outputs": [],
   "source": [
    "def style_interpretation_dataframe(df):\n",
    "    \"\"\"\n",
    "    Apply styling to the interpretation DataFrame.\n",
    "\n",
    "    Parameters:\n",
    "    df (pd.DataFrame): DataFrame containing the interpretations\n",
    "\n",
    "    Returns:\n",
    "    pd.io.formats.style.Styler: A Styler object with the applied styles\n",
    "    \"\"\"\n",
    "    return df.style.set_properties(**{\n",
    "        'white-space': 'pre-wrap',\n",
    "        'line-height': '1.5'\n",
    "    }).set_table_styles([{\n",
    "        'selector': 'th',\n",
    "        'props': [('font-weight', 'bold'), ('background-color', '#f2f2f2')]\n",
    "    }]).set_caption('Interpretations of Event Study Results')"
   ]
  },
  {
   "cell_type": "markdown",
   "metadata": {},
   "source": [
    "## 3. Event Study Analysis"
   ]
  },
  {
   "cell_type": "markdown",
   "metadata": {},
   "source": [
    "### 3.1. Perform event study for each indicator and window size"
   ]
  },
  {
   "cell_type": "code",
   "execution_count": null,
   "metadata": {},
   "outputs": [],
   "source": [
    "# Define multiple event window sizes (days before and after the event)\n",
    "event_window_sizes = [5, 10, 20]\n",
    "\n",
    "# Dictionary to store results for each indicator and window size\n",
    "event_study_results = {}\n",
    "\n",
    "interpretations = []\n",
    "\n",
    "# Perform event study for each window size and indicator\n",
    "for window_size in event_window_sizes:\n",
    "    event_study_results[window_size] = {}\n",
    "    \n",
    "    for indicator_name, indicator_dates in zip(['CPI', 'Interest Rate', 'Unemployment Rate'], \n",
    "                                       [cpi_release_dates, interest_rate_release_dates, unemployment_rate_release_dates]):\n",
    "        aar, aar_t_statistic, aar_p_value, aar_ci, car, car_t_statistic, car_p_value, car_ci, event_windows = event_study(ftse100_data_cleaned, indicator_dates, indicator_name, window_size)\n",
    "        event_study_results[window_size][indicator_name] = {\n",
    "            'aar': aar,\n",
    "            'aar_t_statistic': aar_t_statistic, \n",
    "            'aar_p_value': aar_p_value,\n",
    "            'aar_ci': aar_ci,\n",
    "            'car': car,\n",
    "            'car_t_statistic': car_t_statistic,\n",
    "            'car_p_value': car_p_value,\n",
    "            'car_ci': car_ci,\n",
    "            'event_windows': event_windows\n",
    "        }\n",
    "        print(f\"Window Size: {window_size}, {indicator_name} Releases:\")\n",
    "        print(f\"AAR: {aar:.4f}, T-Statistic: {aar_t_statistic:.4f}, P-Value: {aar_p_value:.4f}\")\n",
    "        print(f\"CAR: {car:.4f}, T-Statistic: {car_t_statistic:.4f}, P-Value: {car_p_value:.4f}\")\n",
    "\n",
    "        interpretation = interpret_results(aar, aar_t_statistic, aar_p_value, aar_ci,\n",
    "                                           car, car_t_statistic, car_p_value, car_ci,\n",
    "                                           indicator_name, window_size)\n",
    "        interpretations.append((window_size, indicator_name, interpretation))"
   ]
  },
  {
   "cell_type": "markdown",
   "metadata": {},
   "source": [
    "### 3.2. Visualise results"
   ]
  },
  {
   "cell_type": "code",
   "execution_count": null,
   "metadata": {},
   "outputs": [],
   "source": [
    "# Plot AAR for different window sizes\n",
    "plot_aar_multiple_windows({window_size: {indicator: data['event_windows'] for indicator, data in indicators.items()}\n",
    "                           for window_size, indicators in event_study_results.items()})\n",
    "\n",
    "# Plot CAR for different window sizes\n",
    "plot_car_multiple_windows({window_size: {indicator: data['event_windows'] for indicator, data in indicators.items()}\n",
    "                           for window_size, indicators in event_study_results.items()})\n"
   ]
  },
  {
   "cell_type": "markdown",
   "metadata": {},
   "source": [
    "### 3.3. Present findings"
   ]
  },
  {
   "cell_type": "markdown",
   "metadata": {},
   "source": [
    "#### Create and display the summary table"
   ]
  },
  {
   "cell_type": "code",
   "execution_count": null,
   "metadata": {},
   "outputs": [],
   "source": [
    "summary_table = create_summary_table(event_study_results)\n",
    "styled_summary = style_dataframe(summary_table.set_index(['Window Size', 'Indicator']))\n",
    "display(HTML(\"<h3>Summary of Event Study Results</h3>\"))\n",
    "display(styled_summary)"
   ]
  },
  {
   "cell_type": "markdown",
   "metadata": {},
   "source": [
    "#### Create and display the interpretation DataFrame"
   ]
  },
  {
   "cell_type": "code",
   "execution_count": null,
   "metadata": {},
   "outputs": [],
   "source": [
    "interpretation_df = create_interpretation_dataframe(interpretations)\n",
    "styled_interpretation = style_interpretation_dataframe(interpretation_df)\n",
    "display(HTML(\"<h3>Interpretations of Event Study Results</h3>\"))\n",
    "display(styled_interpretation)"
   ]
  }
 ],
 "metadata": {
  "kernelspec": {
   "display_name": "base",
   "language": "python",
   "name": "python3"
  },
  "language_info": {
   "codemirror_mode": {
    "name": "ipython",
    "version": 3
   },
   "file_extension": ".py",
   "mimetype": "text/x-python",
   "name": "python",
   "nbconvert_exporter": "python",
   "pygments_lexer": "ipython3",
   "version": "3.11.8"
  }
 },
 "nbformat": 4,
 "nbformat_minor": 2
}
